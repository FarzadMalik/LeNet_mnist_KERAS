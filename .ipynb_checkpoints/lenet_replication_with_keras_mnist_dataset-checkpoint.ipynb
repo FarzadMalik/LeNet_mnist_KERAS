{
 "cells": [
  {
   "cell_type": "markdown",
   "id": "18dd0345",
   "metadata": {},
   "source": [
    "# Import Dependencies"
   ]
  },
  {
   "cell_type": "code",
   "execution_count": 1,
   "id": "537c2f0d",
   "metadata": {},
   "outputs": [],
   "source": [
    "import keras\n",
    "from keras.models import Sequential\n",
    "from keras.layers import Conv2D, MaxPooling2D, Flatten, Dense, Dropout, AveragePooling2D, Activation\n",
    "from tensorflow.keras.layers import BatchNormalization\n",
    "from tensorflow.keras.regularizers import l2\n",
    "from tensorflow.keras.datasets import mnist\n",
    "from tensorflow.keras.utils import to_categorical\n",
    "from tensorflow.keras.optimizers import Adadelta"
   ]
  },
  {
   "cell_type": "markdown",
   "id": "7017a9e4",
   "metadata": {},
   "source": [
    "# Check if Tensorflow is using GPU"
   ]
  },
  {
   "cell_type": "code",
   "execution_count": 2,
   "id": "a828fd9d",
   "metadata": {},
   "outputs": [
    {
     "name": "stdout",
     "output_type": "stream",
     "text": [
      "GPU is available. TensorFlow is using GPU.\n",
      "GPU Name: /physical_device:GPU:0\n"
     ]
    }
   ],
   "source": [
    "import tensorflow as tf\n",
    "\n",
    "# Check if GPU is available and TensorFlow is using it\n",
    "gpu_available = tf.config.list_physical_devices('GPU')\n",
    "if gpu_available:\n",
    "    print(\"GPU is available. TensorFlow is using GPU.\")\n",
    "    for gpu in gpu_available:\n",
    "        print(\"GPU Name:\", gpu.name)\n",
    "else:\n",
    "    print(\"GPU is not available. TensorFlow is using CPU.\")\n"
   ]
  },
  {
   "cell_type": "markdown",
   "id": "1c879e8c",
   "metadata": {},
   "source": [
    "# Define data transform pipeline"
   ]
  },
  {
   "cell_type": "code",
   "execution_count": 3,
   "id": "fe308eef",
   "metadata": {},
   "outputs": [],
   "source": [
    "(x_train, y_train), (x_test, y_test) = mnist.load_data()\n",
    "\n",
    "img_rows = x_train[0].shape[0]\n",
    "img_cols = x_test[1].shape[0]\n",
    "\n",
    "input_shape = (img_rows, img_cols, 1)\n",
    "\n",
    "x_train = x_train.reshape(x_train.shape[0], img_rows, img_cols, 1)\n",
    "x_test = x_test.reshape(x_test.shape[0], img_rows, img_cols, 1)\n",
    "\n",
    "x_train = x_train.astype('float32')\n",
    "x_test = x_test.astype('float32')\n",
    "\n",
    "x_train /= 255\n",
    "x_test /= 255\n"
   ]
  },
  {
   "cell_type": "markdown",
   "id": "3cc9a0ed",
   "metadata": {},
   "source": [
    "# One Hot Encode the labels"
   ]
  },
  {
   "cell_type": "code",
   "execution_count": 4,
   "id": "9007c8b5",
   "metadata": {},
   "outputs": [
    {
     "name": "stdout",
     "output_type": "stream",
     "text": [
      "Number of classes:10 \n",
      "Number of pixels:784 \n"
     ]
    }
   ],
   "source": [
    "y_train = to_categorical(y_train)\n",
    "y_test = to_categorical(y_test)\n",
    "\n",
    "num_classes = y_test.shape[1]\n",
    "num_pixels = x_train.shape[1]*x_train.shape[2]\n",
    "\n",
    "print(f\"Number of classes:{num_classes} \")\n",
    "print(f\"Number of pixels:{num_pixels} \")\n"
   ]
  },
  {
   "cell_type": "markdown",
   "id": "83449d68",
   "metadata": {},
   "source": [
    "# Download dataset"
   ]
  },
  {
   "cell_type": "code",
   "execution_count": null,
   "id": "eaa28c08",
   "metadata": {},
   "outputs": [],
   "source": []
  },
  {
   "cell_type": "markdown",
   "id": "927d9d25",
   "metadata": {},
   "source": [
    "# View 50 sample dataset"
   ]
  },
  {
   "cell_type": "markdown",
   "id": "c515a47d",
   "metadata": {},
   "source": [
    "# Create lenet replication model"
   ]
  },
  {
   "cell_type": "code",
   "execution_count": 5,
   "id": "3397a963",
   "metadata": {},
   "outputs": [
    {
     "name": "stdout",
     "output_type": "stream",
     "text": [
      "Model: \"sequential\"\n",
      "_________________________________________________________________\n",
      " Layer (type)                Output Shape              Param #   \n",
      "=================================================================\n",
      " conv2d (Conv2D)             (None, 28, 28, 6)         156       \n",
      "                                                                 \n",
      " activation (Activation)     (None, 28, 28, 6)         0         \n",
      "                                                                 \n",
      " max_pooling2d (MaxPooling2D  (None, 14, 14, 6)        0         \n",
      " )                                                               \n",
      "                                                                 \n",
      " conv2d_1 (Conv2D)           (None, 14, 14, 16)        2416      \n",
      "                                                                 \n",
      " activation_1 (Activation)   (None, 14, 14, 16)        0         \n",
      "                                                                 \n",
      " max_pooling2d_1 (MaxPooling  (None, 7, 7, 16)         0         \n",
      " 2D)                                                             \n",
      "                                                                 \n",
      " conv2d_2 (Conv2D)           (None, 7, 7, 120)         48120     \n",
      "                                                                 \n",
      " activation_2 (Activation)   (None, 7, 7, 120)         0         \n",
      "                                                                 \n",
      " max_pooling2d_2 (MaxPooling  (None, 3, 3, 120)        0         \n",
      " 2D)                                                             \n",
      "                                                                 \n",
      " flatten (Flatten)           (None, 1080)              0         \n",
      "                                                                 \n",
      " dense (Dense)               (None, 120)               129720    \n",
      "                                                                 \n",
      " activation_3 (Activation)   (None, 120)               0         \n",
      "                                                                 \n",
      " dense_1 (Dense)             (None, 84)                10164     \n",
      "                                                                 \n",
      " activation_4 (Activation)   (None, 84)                0         \n",
      "                                                                 \n",
      " dense_2 (Dense)             (None, 10)                850       \n",
      "                                                                 \n",
      " activation_5 (Activation)   (None, 10)                0         \n",
      "                                                                 \n",
      "=================================================================\n",
      "Total params: 191,426\n",
      "Trainable params: 191,426\n",
      "Non-trainable params: 0\n",
      "_________________________________________________________________\n",
      "None\n"
     ]
    }
   ],
   "source": [
    "# create model\n",
    "model = Sequential()\n",
    "\n",
    "# 2 sets of CRP (Convolution, RELU, Pooling)\n",
    "model.add(Conv2D(6, (5, 5),\n",
    "                 padding = \"same\", # to set padding at 0, use \"valid\"\n",
    "                 input_shape = input_shape))\n",
    "model.add(Activation(\"relu\"))\n",
    "model.add(MaxPooling2D(pool_size = (2, 2), strides = (2, 2)))\n",
    "\n",
    "model.add(Conv2D(16, (5, 5),\n",
    "                 padding = \"same\"))\n",
    "model.add(Activation(\"relu\"))\n",
    "model.add(MaxPooling2D(pool_size = (2, 2), strides = (2, 2)))\n",
    "\n",
    "model.add(Conv2D(120, (5, 5),\n",
    "                 padding = \"same\"))\n",
    "model.add(Activation(\"relu\"))\n",
    "model.add(MaxPooling2D(pool_size = (2, 2), strides = (2, 2)))\n",
    "\n",
    "# Fully connected layers (w/ RELU)\n",
    "model.add(Flatten())\n",
    "model.add(Dense(120))\n",
    "model.add(Activation(\"relu\"))\n",
    "\n",
    "model.add(Dense(84))\n",
    "model.add(Activation(\"relu\"))\n",
    "# Softmax (for classification)\n",
    "model.add(Dense(num_classes))\n",
    "model.add(Activation(\"softmax\"))\n",
    "           \n",
    "model.compile(loss = 'categorical_crossentropy',\n",
    "              optimizer = Adadelta(),\n",
    "              metrics = ['accuracy'])\n",
    "    \n",
    "print(model.summary())"
   ]
  },
  {
   "cell_type": "markdown",
   "id": "47c3641b",
   "metadata": {},
   "source": [
    "# Train the data"
   ]
  },
  {
   "cell_type": "code",
   "execution_count": 6,
   "id": "be7abc54",
   "metadata": {},
   "outputs": [
    {
     "name": "stdout",
     "output_type": "stream",
     "text": [
      "Epoch 1/50\n",
      "469/469 [==============================] - 24s 12ms/step - loss: 2.2982 - accuracy: 0.1403 - val_loss: 2.2912 - val_accuracy: 0.2134\n",
      "Epoch 2/50\n",
      "469/469 [==============================] - 4s 9ms/step - loss: 2.2842 - accuracy: 0.2521 - val_loss: 2.2765 - val_accuracy: 0.2762\n",
      "Epoch 3/50\n",
      "469/469 [==============================] - 4s 9ms/step - loss: 2.2693 - accuracy: 0.2985 - val_loss: 2.2601 - val_accuracy: 0.3091\n",
      "Epoch 4/50\n",
      "469/469 [==============================] - 4s 10ms/step - loss: 2.2525 - accuracy: 0.3283 - val_loss: 2.2418 - val_accuracy: 0.3430\n",
      "Epoch 5/50\n",
      "469/469 [==============================] - 4s 9ms/step - loss: 2.2322 - accuracy: 0.3553 - val_loss: 2.2178 - val_accuracy: 0.3592\n",
      "Epoch 6/50\n",
      "469/469 [==============================] - 5s 10ms/step - loss: 2.2053 - accuracy: 0.3791 - val_loss: 2.1867 - val_accuracy: 0.3984\n",
      "Epoch 7/50\n",
      "469/469 [==============================] - 5s 10ms/step - loss: 2.1713 - accuracy: 0.4151 - val_loss: 2.1474 - val_accuracy: 0.4386\n",
      "Epoch 8/50\n",
      "469/469 [==============================] - 5s 10ms/step - loss: 2.1281 - accuracy: 0.4715 - val_loss: 2.0973 - val_accuracy: 0.5143\n",
      "Epoch 9/50\n",
      "469/469 [==============================] - 6s 12ms/step - loss: 2.0730 - accuracy: 0.5327 - val_loss: 2.0334 - val_accuracy: 0.5521\n",
      "Epoch 10/50\n",
      "469/469 [==============================] - 5s 11ms/step - loss: 2.0028 - accuracy: 0.5612 - val_loss: 1.9525 - val_accuracy: 0.5766\n",
      "Epoch 11/50\n",
      "469/469 [==============================] - 6s 12ms/step - loss: 1.9147 - accuracy: 0.5829 - val_loss: 1.8520 - val_accuracy: 0.5933\n",
      "Epoch 12/50\n",
      "469/469 [==============================] - 5s 11ms/step - loss: 1.8071 - accuracy: 0.6006 - val_loss: 1.7318 - val_accuracy: 0.6132\n",
      "Epoch 13/50\n",
      "469/469 [==============================] - 5s 11ms/step - loss: 1.6823 - accuracy: 0.6236 - val_loss: 1.5972 - val_accuracy: 0.6376\n",
      "Epoch 14/50\n",
      "469/469 [==============================] - 5s 11ms/step - loss: 1.5482 - accuracy: 0.6491 - val_loss: 1.4584 - val_accuracy: 0.6654\n",
      "Epoch 15/50\n",
      "469/469 [==============================] - 5s 10ms/step - loss: 1.4134 - accuracy: 0.6740 - val_loss: 1.3237 - val_accuracy: 0.6935\n",
      "Epoch 16/50\n",
      "469/469 [==============================] - 5s 12ms/step - loss: 1.2867 - accuracy: 0.6969 - val_loss: 1.2014 - val_accuracy: 0.7221\n",
      "Epoch 17/50\n",
      "469/469 [==============================] - 5s 11ms/step - loss: 1.1732 - accuracy: 0.7178 - val_loss: 1.0940 - val_accuracy: 0.7417\n",
      "Epoch 18/50\n",
      "469/469 [==============================] - 5s 11ms/step - loss: 1.0745 - accuracy: 0.7368 - val_loss: 1.0022 - val_accuracy: 0.7624\n",
      "Epoch 19/50\n",
      "469/469 [==============================] - 5s 10ms/step - loss: 0.9901 - accuracy: 0.7565 - val_loss: 0.9245 - val_accuracy: 0.7777\n",
      "Epoch 20/50\n",
      "469/469 [==============================] - 5s 11ms/step - loss: 0.9185 - accuracy: 0.7725 - val_loss: 0.8583 - val_accuracy: 0.7934\n",
      "Epoch 21/50\n",
      "469/469 [==============================] - 5s 11ms/step - loss: 0.8574 - accuracy: 0.7865 - val_loss: 0.8019 - val_accuracy: 0.8092\n",
      "Epoch 22/50\n",
      "469/469 [==============================] - 5s 11ms/step - loss: 0.8051 - accuracy: 0.7980 - val_loss: 0.7539 - val_accuracy: 0.8217\n",
      "Epoch 23/50\n",
      "469/469 [==============================] - 5s 11ms/step - loss: 0.7600 - accuracy: 0.8077 - val_loss: 0.7124 - val_accuracy: 0.8286\n",
      "Epoch 24/50\n",
      "469/469 [==============================] - 5s 11ms/step - loss: 0.7209 - accuracy: 0.8171 - val_loss: 0.6762 - val_accuracy: 0.8354\n",
      "Epoch 25/50\n",
      "469/469 [==============================] - 6s 12ms/step - loss: 0.6868 - accuracy: 0.8241 - val_loss: 0.6448 - val_accuracy: 0.8403\n",
      "Epoch 26/50\n",
      "469/469 [==============================] - 5s 10ms/step - loss: 0.6565 - accuracy: 0.8307 - val_loss: 0.6165 - val_accuracy: 0.8452\n",
      "Epoch 27/50\n",
      "469/469 [==============================] - 5s 11ms/step - loss: 0.6293 - accuracy: 0.8368 - val_loss: 0.5911 - val_accuracy: 0.8502\n",
      "Epoch 28/50\n",
      "469/469 [==============================] - 5s 11ms/step - loss: 0.6045 - accuracy: 0.8419 - val_loss: 0.5680 - val_accuracy: 0.8555\n",
      "Epoch 29/50\n",
      "469/469 [==============================] - 5s 11ms/step - loss: 0.5825 - accuracy: 0.8476 - val_loss: 0.5477 - val_accuracy: 0.8591\n",
      "Epoch 30/50\n",
      "469/469 [==============================] - 5s 10ms/step - loss: 0.5627 - accuracy: 0.8514 - val_loss: 0.5291 - val_accuracy: 0.8618\n",
      "Epoch 31/50\n",
      "469/469 [==============================] - 5s 10ms/step - loss: 0.5445 - accuracy: 0.8552 - val_loss: 0.5121 - val_accuracy: 0.8658\n",
      "Epoch 32/50\n",
      "469/469 [==============================] - 5s 11ms/step - loss: 0.5279 - accuracy: 0.8587 - val_loss: 0.4971 - val_accuracy: 0.8694\n",
      "Epoch 33/50\n",
      "469/469 [==============================] - 5s 10ms/step - loss: 0.5127 - accuracy: 0.8618 - val_loss: 0.4827 - val_accuracy: 0.8715\n",
      "Epoch 34/50\n",
      "469/469 [==============================] - 5s 10ms/step - loss: 0.4987 - accuracy: 0.8655 - val_loss: 0.4694 - val_accuracy: 0.8760\n",
      "Epoch 35/50\n",
      "469/469 [==============================] - 5s 10ms/step - loss: 0.4856 - accuracy: 0.8683 - val_loss: 0.4575 - val_accuracy: 0.8786\n",
      "Epoch 36/50\n",
      "469/469 [==============================] - 5s 11ms/step - loss: 0.4734 - accuracy: 0.8717 - val_loss: 0.4459 - val_accuracy: 0.8807\n",
      "Epoch 37/50\n",
      "469/469 [==============================] - 5s 11ms/step - loss: 0.4621 - accuracy: 0.8737 - val_loss: 0.4352 - val_accuracy: 0.8835\n",
      "Epoch 38/50\n",
      "469/469 [==============================] - 5s 10ms/step - loss: 0.4515 - accuracy: 0.8766 - val_loss: 0.4256 - val_accuracy: 0.8855\n",
      "Epoch 39/50\n",
      "469/469 [==============================] - 5s 10ms/step - loss: 0.4415 - accuracy: 0.8786 - val_loss: 0.4158 - val_accuracy: 0.8873\n",
      "Epoch 40/50\n",
      "469/469 [==============================] - 4s 9ms/step - loss: 0.4321 - accuracy: 0.8813 - val_loss: 0.4071 - val_accuracy: 0.8904\n",
      "Epoch 41/50\n",
      "469/469 [==============================] - 5s 10ms/step - loss: 0.4231 - accuracy: 0.8834 - val_loss: 0.3987 - val_accuracy: 0.8917\n",
      "Epoch 42/50\n",
      "469/469 [==============================] - 5s 10ms/step - loss: 0.4146 - accuracy: 0.8857 - val_loss: 0.3908 - val_accuracy: 0.8935\n",
      "Epoch 43/50\n",
      "469/469 [==============================] - 4s 10ms/step - loss: 0.4066 - accuracy: 0.8873 - val_loss: 0.3836 - val_accuracy: 0.8965\n",
      "Epoch 44/50\n",
      "469/469 [==============================] - 5s 10ms/step - loss: 0.3990 - accuracy: 0.8892 - val_loss: 0.3758 - val_accuracy: 0.8978\n",
      "Epoch 45/50\n",
      "469/469 [==============================] - 5s 11ms/step - loss: 0.3918 - accuracy: 0.8911 - val_loss: 0.3690 - val_accuracy: 0.8998\n",
      "Epoch 46/50\n",
      "469/469 [==============================] - 6s 12ms/step - loss: 0.3847 - accuracy: 0.8927 - val_loss: 0.3625 - val_accuracy: 0.9010\n",
      "Epoch 47/50\n",
      "469/469 [==============================] - 5s 10ms/step - loss: 0.3779 - accuracy: 0.8946 - val_loss: 0.3562 - val_accuracy: 0.9004\n",
      "Epoch 48/50\n",
      "469/469 [==============================] - 5s 11ms/step - loss: 0.3715 - accuracy: 0.8963 - val_loss: 0.3509 - val_accuracy: 0.9032\n",
      "Epoch 49/50\n",
      "469/469 [==============================] - 4s 10ms/step - loss: 0.3654 - accuracy: 0.8979 - val_loss: 0.3449 - val_accuracy: 0.9045\n",
      "Epoch 50/50\n",
      "469/469 [==============================] - 5s 10ms/step - loss: 0.3595 - accuracy: 0.8993 - val_loss: 0.3391 - val_accuracy: 0.9052\n",
      "313/313 [==============================] - 2s 5ms/step - loss: 0.3391 - accuracy: 0.9053\n",
      "Test loss: 0.33912545442581177\n",
      "Test accuracy: 0.9053000211715698\n"
     ]
    }
   ],
   "source": [
    "# Training Parameters\n",
    "batch_size = 128\n",
    "epochs = 50\n",
    "\n",
    "history = model.fit(x_train, y_train,\n",
    "          batch_size=batch_size,\n",
    "          epochs=epochs,\n",
    "          validation_data=(x_test, y_test),\n",
    "          shuffle=True)\n",
    "\n",
    "model.save(\"mnist_LeNet.h5\")\n",
    "\n",
    "# Evaluate the performance of our trained model\n",
    "scores = model.evaluate(x_test, y_test, verbose=1)\n",
    "print('Test loss:', scores[0])\n",
    "print('Test accuracy:', scores[1])"
   ]
  },
  {
   "cell_type": "markdown",
   "id": "20b18bda",
   "metadata": {},
   "source": [
    "# Plot Performance"
   ]
  },
  {
   "cell_type": "code",
   "execution_count": 10,
   "id": "252a340c",
   "metadata": {},
   "outputs": [
    {
     "data": {
      "image/png": "[encoded data removed]",
      "text/plain": [
       "<Figure size 1000x500 with 2 Axes>"
      ]
     },
     "metadata": {},
     "output_type": "display_data"
    }
   ],
   "source": [
    "from matplotlib import pyplot as plt\n",
    "import numpy as np\n",
    "plt.figure(figsize=(10, 5))\n",
    "plt.subplot(1, 2, 1)\n",
    "plt.plot(history.history['loss'], label='Training Loss')\n",
    "plt.plot(history.history['val_loss'], label='Validation Loss')\n",
    "plt.xlabel('Epoch')\n",
    "plt.ylabel('Loss')\n",
    "plt.title('Training and Validation Loss')\n",
    "plt.legend()\n",
    "\n",
    "# Plot training and validation accuracy over epochs\n",
    "plt.subplot(1, 2, 2)\n",
    "plt.plot(history.history['accuracy'], label='Training Accuracy')\n",
    "plt.plot(history.history['val_accuracy'], label='Validation Accuracy')\n",
    "plt.xlabel('Epoch')\n",
    "plt.ylabel('Accuracy')\n",
    "plt.title('Training and Validation Accuracy')\n",
    "plt.legend()\n",
    "\n",
    "plt.tight_layout()\n",
    "plt.show()"
   ]
  },
  {
   "cell_type": "code",
   "execution_count": null,
   "id": "db6bb629",
   "metadata": {},
   "outputs": [],
   "source": []
  }
 ],
 "metadata": {
  "kernelspec": {
   "display_name": "Python 3 (ipykernel)",
   "language": "python",
   "name": "python3"
  },
  "language_info": {
   "codemirror_mode": {
    "name": "ipython",
    "version": 3
   },
   "file_extension": ".py",
   "mimetype": "text/x-python",
   "name": "python",
   "nbconvert_exporter": "python",
   "pygments_lexer": "ipython3",
   "version": "3.9.13"
  }
 },
 "nbformat": 4,
 "nbformat_minor": 5
}
